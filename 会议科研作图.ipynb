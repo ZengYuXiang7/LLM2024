{
 "cells": [
  {
   "metadata": {
    "ExecuteTime": {
     "end_time": "2024-05-26T11:35:41.241499Z",
     "start_time": "2024-05-26T11:35:41.235874Z"
    }
   },
   "cell_type": "code",
   "source": "30 // 1.5",
   "execution_count": 1,
   "outputs": []
  },
  {
   "cell_type": "code",
   "execution_count": 1,
   "source": [
    "import os\n",
    "def makedir(path):\n",
    "    path = path.strip()\n",
    "    path = path.rstrip(\"\\\\\")\n",
    "    isExists = os.path.exists(path)\n",
    "    if not isExists:\n",
    "        os.makedirs(path)\n",
    "        return True\n",
    "    return False\n",
    "makedir('figs')"
   ],
   "metadata": {
    "collapsed": false,
    "ExecuteTime": {
     "end_time": "2024-05-06T17:08:42.468811Z",
     "start_time": "2024-05-06T17:08:42.465855Z"
    }
   },
   "outputs": []
  },
  {
   "cell_type": "code",
   "source": [
    "saved = False"
   ],
   "metadata": {
    "collapsed": false,
    "ExecuteTime": {
     "end_time": "2024-05-25T14:49:37.401032Z",
     "start_time": "2024-05-25T14:49:37.399082Z"
    }
   },
   "execution_count": 1,
   "outputs": []
  },
  {
   "cell_type": "markdown",
   "source": [
    "# 消融实验"
   ],
   "metadata": {
    "collapsed": false
   }
  },
  {
   "cell_type": "code",
   "source": [
    "import matplotlib.pyplot as plt\n",
    "import numpy as np\n",
    "from matplotlib.backends.backend_pdf import PdfPages\n",
    "\n",
    "# 颜色\n",
    "color = ['#2878b5', '#ff7f0e']\n",
    "labels = ['w/ attention', 'w/o attention']\n",
    "x_labels = 'Matrix Density'\n",
    "y_labels = 'Error'\n",
    "bar_width = 0.16  # 条形宽度\n",
    "\n",
    "titles = ['MaxBlockBack=0, MaxRTT=1000', 'MaxBlockBack=12, MaxRTT=1000', 'MaxBlockBack=12, MaxRTT=2000', 'MaxBlockBack=100, MaxRTT=5000']\n",
    "value = [\n",
    "    [[0.1886, 0.1242, 0.0901, 0.0793, 0.0726],\n",
    "     [0, 0, 0, 0, 0]\n",
    "     ],\n",
    "\n",
    "    [[0.2017, 0.1361, 0.1022, 0.0861, 0.0777],\n",
    "     [0, 0, 0, 0, 0]\n",
    "     ],\n",
    "\n",
    "    [[0.1782, 0.1022, 0.0730, 0.0576, 0.0506],\n",
    "     [0, 0, 0, 0, 0]\n",
    "     ],\n",
    "\n",
    "    [[0.1501, 0.0890, 0.0624, 0.0525, 0.0444],\n",
    "     [0, 0, 0, 0, 0]\n",
    "     ]\n",
    "]\n",
    "value = np.array(value)\n",
    "\n",
    "for i in range(4):\n",
    "    fig = plt.figure(dpi=600)\n",
    "    idx_name = ('1%', '2%', '3%', '4%', '5%')\n",
    "    Idx1 = np.arange(len(idx_name))\n",
    "    Idx2 = Idx1 + bar_width\n",
    "    value1 = value[i][0]\n",
    "    value2 = value[i][1]\n",
    "    plt.bar(Idx1, height=value1, width=bar_width, color=color[0], edgecolor='black', label=labels[0])\n",
    "    plt.bar(Idx2, height=value2, width=bar_width, color=color[1], edgecolor='black', label=labels[1])\n",
    "    plt.ylim(0, 0.25)\n",
    "    plt.legend(frameon=False, loc='upper left')  # 显示图例\n",
    "    plt.xticks((Idx1 + Idx2) / 2, idx_name)\n",
    "    plt.xlabel(x_labels)  # 横坐标轴标题\n",
    "    plt.ylabel(y_labels)  # 纵坐标轴标题\n",
    "    plt.title(titles[i])  # 图形标题\n",
    "    \n",
    "    if saved:\n",
    "        with PdfPages(f'./figs/ablation{i + 1}.pdf') as pdf:\n",
    "            pdf.savefig()  # 将当前图形保存到 PDF 文件中"
   ],
   "metadata": {
    "collapsed": false,
    "ExecuteTime": {
     "end_time": "2024-05-06T17:08:44.118927Z",
     "start_time": "2024-05-06T17:08:42.477448Z"
    }
   },
   "execution_count": 3,
   "outputs": []
  },
  {
   "cell_type": "markdown",
   "source": [
    "# 交互函数实验"
   ],
   "metadata": {
    "collapsed": false
   }
  },
  {
   "cell_type": "code",
   "source": [
    "import matplotlib.pyplot as plt\n",
    "import numpy as np\n",
    "from matplotlib.backends.backend_pdf import PdfPages\n",
    "\n",
    "# 颜色\n",
    "color = ['#679dbd', '#fef0d7']\n",
    "labels = ['Inner-product', 'Neural-network']\n",
    "x_labels = 'Matrix Density'\n",
    "y_labels = 'MAE'\n",
    "bar_width = 0.16  # 条形宽度\n",
    "\n",
    "titles = ['MaxBlockBack=0, MaxRTT=1000', 'MaxBlockBack=12, MaxRTT=1000', 'MaxBlockBack=12, MaxRTT=2000', 'MaxBlockBack=100, MaxRTT=5000']\n",
    "value = [\n",
    "    [[0.2629, 0.2552, 0.2258, 0.1993, 0.1939],\n",
    "     [0.1886, 0.1242, 0.0901, 0.0793, 0.0726]\n",
    "     ],\n",
    "\n",
    "    [[0.2961, 0.2662, 0.2398, 0.2316, 0.1934],\n",
    "     [0.2017, 0.1361, 0.1022, 0.0861, 0.0777]\n",
    "     ],\n",
    "\n",
    "    [[0.2873, 0.2564, 0.2351, 0.2222, 0.1902],\n",
    "     [0.1782, 0.1022, 0.0730, 0.0576, 0.0506]\n",
    "     ],\n",
    "\n",
    "    [[0.2192, 0.1832, 0.1534, 0.1507, 0.1446],\n",
    "     [0.1501, 0.0890, 0.0624, 0.0525, 0.0444]\n",
    "     ]\n",
    "]\n",
    "value = np.array(value)\n",
    "\n",
    "for i in range(4):\n",
    "    fig = plt.figure(dpi=600)\n",
    "    idx_name = ('1%', '2%', '3%', '4%', '5%')\n",
    "    Idx1 = np.arange(len(idx_name))\n",
    "    Idx2 = Idx1 + bar_width\n",
    "    value1 = value[i][0]\n",
    "    value2 = value[i][1]\n",
    "    plt.bar(Idx1, height=value1, width=bar_width, color=color[0], edgecolor='black', label=labels[0])\n",
    "    plt.bar(Idx2, height=value2, width=bar_width, color=color[1], edgecolor='black', label=labels[1])\n",
    "    plt.ylim(0, 0.35)\n",
    "    plt.legend(frameon=False, loc='upper left')  # 显示图例\n",
    "    plt.xticks((Idx1 + Idx2) / 2, idx_name)\n",
    "    plt.xlabel(x_labels)  # 横坐标轴标题\n",
    "    plt.ylabel(y_labels)  # 纵坐标轴标题\n",
    "    plt.title(titles[i]) \n",
    "    # 图形标题\n",
    "    if saved:\n",
    "        with PdfPages(f'./figs/interaction{i + 1}.pdf') as pdf:\n",
    "            pdf.savefig()  # 将当前图形保存到 PDF 文件中"
   ],
   "metadata": {
    "collapsed": false,
    "ExecuteTime": {
     "end_time": "2024-05-06T17:08:45.111559Z",
     "start_time": "2024-05-06T17:08:44.125162Z"
    }
   },
   "execution_count": 4,
   "outputs": []
  },
  {
   "cell_type": "markdown",
   "source": [
    "# 折线图"
   ],
   "metadata": {
    "collapsed": false
   }
  },
  {
   "cell_type": "code",
   "execution_count": 5,
   "source": [
    "# 折线图\n",
    "import matplotlib.pyplot as plt\n",
    "import numpy as np\n",
    "from matplotlib.backends.backend_pdf import PdfPages\n",
    "\n",
    "# 颜色\n",
    "color = ['#679dbd', '#fef0d7']\n",
    "x_labels = 'Dimensionality'\n",
    "y_labels = 'Error'\n",
    "marker = ['o', 's', 'D', '<', '>', 'v']\n",
    "\n",
    "titles = ['MaxBlockBack=0, MaxRTT=1000', 'MaxBlockBack=12, MaxRTT=1000', 'MaxBlockBack=12, MaxRTT=2000', 'MaxBlockBack=100, MaxRTT=5000']\n",
    "value = [\n",
    "    [[0.0800, 0.0773, 0.0730, 0.0715, 0.0702],\n",
    "     [0.1308, 0.1305, 0.1237, 0.1215, 0.1212]\n",
    "     ],\n",
    "\n",
    "    [[0.0868, 0.0800, 0.0817, 0.0819, 0.0790],\n",
    "     [0.1562, 0.1453, 0.1503, 0.1494, 0.1458]\n",
    "     ],\n",
    "\n",
    "    [[0.0588, 0.0529, 0.0508, 0.0515, 0.0505],\n",
    "     [0.1074, 0.0912, 0.0866, 0.0902, 0.0894]\n",
    "     ],\n",
    "\n",
    "    [[0.0508, 0.0479, 0.0458, 0.0460, 0.0467],\n",
    "     [0.0934, 0.0883, 0.0844, 0.0864, 0.0849]\n",
    "     ]\n",
    "]\n",
    "value = np.array(value)\n",
    "\n",
    "for i in range(4):\n",
    "    fig = plt.figure(figsize=(6, 6), dpi=600)\n",
    "    idx_name = ('16', '32', '64', '128', '256')\n",
    "    Idx1 = np.arange(len(idx_name))\n",
    "    Idx2 = Idx1 + bar_width\n",
    "    value1 = value[i][0]\n",
    "    value2 = value[i][1]\n",
    "    plt.plot(value1, marker=marker[0], label='MAE', color='red')\n",
    "    plt.plot(value2, marker=marker[1], label='RMSE', color='blue')\n",
    "    plt.ylim(min(value1) - 0.01 , max(value2) + 0.01)\n",
    "    plt.legend(frameon=False, loc='upper left')  # 显示图例\n",
    "    plt.xticks((Idx1 + Idx2) / 2, idx_name)\n",
    "    plt.xlabel(x_labels)  # 横坐标轴标题\n",
    "    plt.ylabel(y_labels)  # 纵坐标轴标题\n",
    "    plt.title(titles[i])  # 图形标题\n",
    "    plt.grid()\n",
    "    if saved:\n",
    "        with PdfPages(f'./figs/dimension{i + 1}.pdf') as pdf:\n",
    "            pdf.savefig()  # 将当前图形保存到 PDF 文件中\n",
    "    plt.close(fig)  # 关闭图形，防止它显示出来"
   ],
   "metadata": {
    "collapsed": false,
    "ExecuteTime": {
     "end_time": "2024-05-06T17:08:45.204395Z",
     "start_time": "2024-05-06T17:08:45.136377Z"
    }
   },
   "outputs": []
  },
  {
   "cell_type": "code",
   "execution_count": 6,
   "source": [
    "# 折线图\n",
    "import matplotlib.pyplot as plt\n",
    "import numpy as np\n",
    "from matplotlib.backends.backend_pdf import PdfPages\n",
    "\n",
    "# 颜色\n",
    "colors = ['#ff7f0e', '#1f77b4']\n",
    "x_labels = 'Heads Number'\n",
    "y_labels = 'Error'\n",
    "marker = ['o', 's', 'D', '<', '>', 'v']\n",
    "\n",
    "titles = ['MaxBlockBack=0, MaxRTT=1000', 'MaxBlockBack=12, MaxRTT=1000', 'MaxBlockBack=12, MaxRTT=2000', 'MaxBlockBack=100, MaxRTT=5000']\n",
    "value = [\n",
    "    [[0.0735, 0.0726, 0.0728, 0.0736, 0.0748],\n",
    "     [0.1269, 0.1247, 0.1279, 0.1259, 0.1319]\n",
    "     ],\n",
    "\n",
    "    [[0.0795, 0.0777, 0.0817, 0.0856, 0.0793],\n",
    "     [0.1440, 0.1407, 0.1518, 0.1604, 0.1452]\n",
    "     ],\n",
    "\n",
    "    [[0.0513, 0.0506, 0.0530, 0.0562, 0.0535],\n",
    "     [0.0896, 0.0886, 0.0950, 0.1019, 0.0935]\n",
    "     ],\n",
    "\n",
    "    [[0.0469, 0.0463, 0.0471, 0.0488, 0.0497],\n",
    "     [0.0860, 0.0838, 0.0875, 0.0867, 0.0930]\n",
    "     ]\n",
    "]\n",
    "value = np.array(value)\n",
    "\n",
    "for i in range(4):\n",
    "    fig = plt.figure(figsize=(6, 6), dpi=600)\n",
    "    idx_name = ('1', '2', '4', '6', '8')\n",
    "    Idx1 = np.arange(len(idx_name))\n",
    "    Idx2 = Idx1 + bar_width\n",
    "    value1 = value[i][0]\n",
    "    value2 = value[i][1]\n",
    "    plt.plot(value1, marker=marker[0], label='MAE', color=colors[0])\n",
    "    plt.plot(value2, marker=marker[1], label='RMSE', color=colors[1])\n",
    "    plt.legend(frameon=False, loc='upper left')  # 显示图例\n",
    "    plt.xticks((Idx1 + Idx2) / 2, idx_name)\n",
    "    plt.xlabel(x_labels)  # 横坐标轴标题\n",
    "    plt.ylabel(y_labels)  # 纵坐标轴标题\n",
    "    plt.title(titles[i])  # 图形标题\n",
    "    plt.grid()\n",
    "    if saved:\n",
    "        with PdfPages(f'./figs/heads{i + 1}.pdf') as pdf:\n",
    "            pdf.savefig()  # 将当前图形保存到 PDF 文件中\n",
    "    plt.close(fig)  # 关闭图形，防止它显示出来\n",
    "    "
   ],
   "metadata": {
    "collapsed": false,
    "ExecuteTime": {
     "end_time": "2024-05-06T17:08:45.248141Z",
     "start_time": "2024-05-06T17:08:45.178216Z"
    }
   },
   "outputs": []
  },
  {
   "cell_type": "code",
   "execution_count": 13,
   "source": [
    "def draw_line_plot(data, titles, x_labels, colors):\n",
    "    # 折线图\n",
    "    import matplotlib.pyplot as plt\n",
    "    import numpy as np\n",
    "    from matplotlib.backends.backend_pdf import PdfPages\n",
    "    \n",
    "    # 颜色\n",
    "    bar_width = 0.13  # 条形宽度\n",
    "    \n",
    "    y_labels = 'Error'\n",
    "    marker = [ 's', 'o', 'D', '<', '>', 'v']\n",
    "    markersize = 11\n",
    "    data = np.array(data)\n",
    "    for i in range(len(data)):\n",
    "        fig = plt.figure(figsize=(5, 5), dpi=600)\n",
    "        idx_name = ('10', '20', '30', '40', '50')\n",
    "        Idx1 = np.arange(len(idx_name))\n",
    "        Idx2 = Idx1 + bar_width\n",
    "        value1 = data[i][0]\n",
    "        value2 = data[i][1]\n",
    "        plt.plot(value1, marker=marker[0], label='NMAE', color=colors[0], markersize = markersize)\n",
    "        plt.plot(value2, marker=marker[1], label='NRMSE', color=colors[1], markersize = markersize)\n",
    "        plt.legend(frameon=False, loc='upper center', bbox_to_anchor=(0.5, 1), ncol=2)\n",
    "        # plt.legend(frameon=False, loc='upper left')  # 显示图例\n",
    "        plt.xticks((Idx1 + Idx2) / 2, idx_name)\n",
    "        plt.xlabel(x_labels)  # 横坐标轴标题\n",
    "        plt.ylabel(y_labels)  # 纵坐标轴标题\n",
    "        plt.title(titles[i])  # 图形标题\n",
    "        plt.grid()\n",
    "        if saved:\n",
    "            with PdfPages(f'./figs/heads{i + 1}.pdf') as pdf:\n",
    "                pdf.savefig()\n",
    "        break\n",
    "    # plt.close(fig)  # 关闭图形，防止它显示出来\n",
    "    return True\n",
    "\n",
    "value = [\n",
    "        [[0.0735, 0.0726, 0.0728, 0.0736, 0.0748],\n",
    "         [0.1269, 0.1247, 0.1279, 0.1259, 0.1319]\n",
    "         ],\n",
    "    \n",
    "        [[0.0795, 0.0777, 0.0817, 0.0856, 0.0793],\n",
    "         [0.1440, 0.1407, 0.1518, 0.1604, 0.1452]\n",
    "         ],\n",
    "    \n",
    "    ]\n",
    "titles = ['', '']\n",
    "x_labels = 'Rank'\n",
    "colors = ['#ff7f0e', '#1f77b4']\n",
    "draw_line_plot(value, titles, x_labels, colors)"
   ],
   "metadata": {
    "collapsed": false,
    "ExecuteTime": {
     "end_time": "2024-05-06T17:12:33.054456Z",
     "start_time": "2024-05-06T17:12:32.822416Z"
    }
   },
   "outputs": []
  },
  {
   "cell_type": "code",
   "source": [],
   "metadata": {
    "collapsed": false,
    "ExecuteTime": {
     "end_time": "2024-05-06T17:08:45.276522Z",
     "start_time": "2024-05-06T17:08:45.269524Z"
    }
   },
   "execution_count": 7,
   "outputs": []
  },
  {
   "cell_type": "code",
   "source": [
    "import matplotlib.pyplot as plt\n",
    "import numpy as np\n",
    "from matplotlib.backends.backend_pdf import PdfPages\n",
    "\n",
    "def draw_4_line_plots(data, titles, x_labels, colors):\n",
    "    markers = ['s', 'o']\n",
    "    y_labels = 'Error'\n",
    "    idx_names = [['10', '20', '30', '40', '50'], ['1', '2', '3', '4', '5']]\n",
    "    \n",
    "    # 创建2x2图表布局\n",
    "    fig, axs = plt.subplots(2, 2, figsize=(6.5, 7), dpi=600)\n",
    "    \n",
    "    # 通过轴对象的handles和labels创建图例\n",
    "    handles, labels = [], []\n",
    "    \n",
    "    markersize = 6\n",
    "    for i, ax in enumerate(axs.flatten()):\n",
    "        if i < len(data):  # 确保数据列表中有足够的数据组\n",
    "            value1, value2 = data[i]\n",
    "            color = colors[0] if i < 2 else colors[1]\n",
    "            line1, = ax.plot(value1, marker=markers[0], markersize=markersize, label='NMAE', color=color[0])\n",
    "            line2, = ax.plot(value2, marker=markers[1], markersize=markersize, label='NRMSE', color=color[1])\n",
    "            ax.set_title(titles[i])\n",
    "            # 上面两个图用x_labels的第一个标签，下面两个图用第二个标签\n",
    "            ax.set_xlabel(x_labels[0] if i < 2 else x_labels[1])\n",
    "            ax.set_ylabel(y_labels)\n",
    "            idx_name = idx_names[0] if i < 2 else idx_names[1]\n",
    "            ax.set_xticks(range(len(idx_name)))\n",
    "            ax.set_xticklabels(idx_name)\n",
    "            ax.grid()\n",
    "            # 收集图例句柄和标签\n",
    "            handles.extend([line1, line2])\n",
    "            labels.extend([line1.get_label(), line2.get_label()])\n",
    "        else:\n",
    "            ax.set_visible(False)  # 隐藏没有数据的子图\n",
    "    # 调整图表布局\n",
    "    plt.tight_layout(rect=[0, 0.03, 1, 0.95])\n",
    "    # 创建一个图例在所有子图的上方中心位置\n",
    "    fig.legend(handles[:2], labels[:2], loc='upper center', ncol=2, bbox_to_anchor=(0.534, 0.96))\n",
    "    # 创建一个图例在所有子图的中心位置\n",
    "    fig.legend(handles[6:], labels[6:], loc='upper center', ncol=2, bbox_to_anchor=(0.534, 0.51))\n",
    "    # 保存PDF\n",
    "    pdf_path = './figs/line_plots.pdf'\n",
    "    with PdfPages(pdf_path) as pdf:\n",
    "        pdf.savefig(fig)  # 将图表保存到PDF文件中\n",
    "    # plt.close(fig)  # 关闭图形，防止它显示出来\n",
    "    return pdf_path  # 返回PDF文件路径\n",
    "\n",
    "value = [\n",
    "    # dimension\n",
    "    [[0.02876, 0.03104, 0.02802, 0.02990, 0.02922, ], [0.04020, 0.04293, 0.04010, 0.04191, 0.04238, ]],\n",
    "    [[0.02768, 0.02705, 0.02695, 0.02774, 0.0275, ], [0.03804, 0.03732, 0.03736, 0.03820, 0.0376, ]],  #毛毛跑完的！\n",
    "    # Graph order\n",
    "    [[0.0300, 0.0279, 0.0277, 0.0273, 0.0278], [0.0442, 0.0401, 0.0398, 0.0397, 0.0401]],  # 搞定\n",
    "    [[0.0300, 0.0295, 0.0289, 0.0269, 0.0289], [0.0442, 0.0399, 0.0389, 0.0373, 0.0389]]  \n",
    "]\n",
    "titles = ['CPU', 'CPU', 'GPU', 'GPU']\n",
    "x_labels = ['Dimension', 'Graph Order']\n",
    "colors = [['#ff7f0e', '#1f77b4'], ['red', 'blue']]  # NMAE 和 NRMSE 的颜色\n",
    "pdf_path = draw_4_line_plots(value, titles, x_labels, colors)\n",
    "print(f\"The plots have been saved to {pdf_path}\")"
   ],
   "metadata": {
    "collapsed": false,
    "ExecuteTime": {
     "end_time": "2024-05-06T17:14:20.156882Z",
     "start_time": "2024-05-06T17:14:19.429102Z"
    }
   },
   "execution_count": 14,
   "outputs": []
  },
  {
   "cell_type": "code",
   "source": [
    "[0.0300, 0.0275, 0.0277, 0.0273, 0.0278], [0.0442, 0.0396, 0.0398, 0.0397, 0.0401]   # 搞定"
   ],
   "metadata": {
    "collapsed": false,
    "ExecuteTime": {
     "end_time": "2024-05-06T17:08:45.492569Z",
     "start_time": "2024-05-06T17:08:45.490008Z"
    }
   },
   "execution_count": 9,
   "outputs": []
  },
  {
   "cell_type": "code",
   "source": [
    "[0.0300, 0.0295, 0.0289, 0.0269, 0.0289], [0.0442, 0.0399, 0.0389, 0.0373, 0.0389]  "
   ],
   "metadata": {
    "collapsed": false,
    "ExecuteTime": {
     "end_time": "2024-05-06T17:08:45.496220Z",
     "start_time": "2024-05-06T17:08:45.493588Z"
    }
   },
   "execution_count": 10,
   "outputs": []
  },
  {
   "cell_type": "code",
   "source": [],
   "metadata": {
    "collapsed": false,
    "ExecuteTime": {
     "end_time": "2024-05-06T17:08:45.498978Z",
     "start_time": "2024-05-06T17:08:45.496409Z"
    }
   },
   "execution_count": 10,
   "outputs": []
  }
 ],
 "metadata": {
  "kernelspec": {
   "display_name": "Python 3",
   "language": "python",
   "name": "python3"
  },
  "language_info": {
   "codemirror_mode": {
    "name": "ipython",
    "version": 2
   },
   "file_extension": ".py",
   "mimetype": "text/x-python",
   "name": "python",
   "nbconvert_exporter": "python",
   "pygments_lexer": "ipython2",
   "version": "2.7.6"
  }
 },
 "nbformat": 4,
 "nbformat_minor": 0
}
