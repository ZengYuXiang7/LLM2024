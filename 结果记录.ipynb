{
 "cells": [
  {
   "cell_type": "code",
   "id": "initial_id",
   "metadata": {
    "collapsed": true,
    "ExecuteTime": {
     "end_time": "2024-06-09T05:01:55.360088Z",
     "start_time": "2024-06-09T05:01:55.327685Z"
    }
   },
   "source": [
    "from utils.utils import makedir\n",
    "import os\n",
    "address = './results/ours/only_embed/log'\n",
    "makedir('results')\n",
    "# 打开输出文件\n",
    "with open('./results/output.txt', 'w') as ans:\n",
    "    # 获取目标目录中的所有文件\n",
    "    all_result = os.listdir(address)\n",
    "    \n",
    "    # 遍历所有文件\n",
    "    for filename in all_result:\n",
    "        # 构建文件路径\n",
    "        file_path = os.path.join(address, filename)\n",
    "        \n",
    "        # 打开并读取文件内容\n",
    "        with open(file_path, 'r') as f:\n",
    "            content = f.read()\n",
    "            \n",
    "            # 打印文件内容\n",
    "            print(content)\n",
    "            \n",
    "            # 将文件内容写入输出文件，添加一些格式\n",
    "            ans.write(f\"Content of {filename}:\\n\")\n",
    "            ans.write(content)\n",
    "            ans.write(\"\\n\\n\")"
   ],
   "execution_count": 27,
   "outputs": []
  },
  {
   "metadata": {
    "ExecuteTime": {
     "end_time": "2024-06-09T05:01:55.652068Z",
     "start_time": "2024-06-09T05:01:55.650209Z"
    }
   },
   "cell_type": "code",
   "source": "",
   "id": "3cab6ea48f40aa87",
   "execution_count": 27,
   "outputs": []
  },
  {
   "metadata": {
    "ExecuteTime": {
     "end_time": "2024-06-09T07:09:54.087092Z",
     "start_time": "2024-06-09T07:09:54.063741Z"
    }
   },
   "cell_type": "code",
   "source": [
    "all_result = os.listdir('results/')\n",
    "all_model = []\n",
    "for item in all_result:\n",
    "    if item not in ['output.txt', 'metrics']:\n",
    "        # print(item)\n",
    "        all_model.append(item)\n",
    "print(all_model)\n",
    "with open('./results/output.txt', 'w') as f:\n",
    "    for i in range(len(all_model)):\n",
    "        from utils.utils import makedir\n",
    "        import os\n",
    "        address = f'./results/{all_model[i]}/log'\n",
    "        makedir('results')\n",
    "        # 打开输出文件\n",
    "        # 获取目标目录中的所有文件\n",
    "        all_result = os.listdir(address)\n",
    "        # 遍历所有文件\n",
    "        for filename in all_result:\n",
    "            # 构建文件路径\n",
    "            file_path = os.path.join(address, filename)\n",
    "            \n",
    "            # 打开并读取文件内容\n",
    "            with open(file_path, 'r') as f2:\n",
    "                content = f2.read()\n",
    "                \n",
    "                # 打印文件内容\n",
    "                print(content)\n",
    "                \n",
    "                # 将文件内容写入输出文件，添加一些格式\n",
    "                f.write(f\"Content of {filename}:\\n\")\n",
    "                f.write(content)\n",
    "                f.write(\"\\n\\n\")"
   ],
   "id": "28001a34af6b0e6c",
   "execution_count": 29,
   "outputs": []
  },
  {
   "metadata": {},
   "cell_type": "code",
   "execution_count": null,
   "source": "",
   "id": "92305c200fcdc1e2",
   "outputs": []
  }
 ],
 "metadata": {
  "kernelspec": {
   "display_name": "Python 3",
   "language": "python",
   "name": "python3"
  },
  "language_info": {
   "codemirror_mode": {
    "name": "ipython",
    "version": 2
   },
   "file_extension": ".py",
   "mimetype": "text/x-python",
   "name": "python",
   "nbconvert_exporter": "python",
   "pygments_lexer": "ipython2",
   "version": "2.7.6"
  }
 },
 "nbformat": 4,
 "nbformat_minor": 5
}
